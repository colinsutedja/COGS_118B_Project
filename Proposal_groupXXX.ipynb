{
 "cells": [
  {
   "cell_type": "markdown",
   "metadata": {},
   "source": [
    "# COGS 118B - Project Proposal"
   ]
  },
  {
   "cell_type": "markdown",
   "metadata": {},
   "source": [
    "# Names\n",
    "- Nhathan Nguyen \n",
    "- Elizabeth Lee\n",
    "- Kristoffer Alejo \n",
    "- Colin Sutedja \n"
   ]
  },
  {
   "cell_type": "markdown",
   "metadata": {},
   "source": [
    "# Abstract \n",
    "Our objective is to enhance student housing solutions by leveraging market data and student preferences to find the most suitable offers. Understanding that college students and people in major cities need to find the best deals for apartments/homes, we wanted to curate a solution that can find their best fit. In this case, our main method is utilizing Zillow's comprehensive real estate datasets, along with detailed market analysis, we will assess housing options through a range of ratings and time-clustered data. Our main goal and strategy involves crafting an algorithm capable of sifting through vast amounts of information to identify properties that align with students' specific needs, such as affordability, proximity to universities, and amenities. The effectiveness of this approach will be gauged by our algorithm's capability in matching students with ideal housing options when their checklists are taken into account. Knowing that we cannot work with extremely large data sets, we want to ensure a smooth applicable model with sizable data that can represent how this can be used in a real world application. This will ensure a balance between practicality and preference satisfaction. In addition, we hope to create a sizable working environment to adapt recommendations to changing conditions, ensuring the most relevant and cost-effective housing solutions are presented."
   ]
  },
  {
   "cell_type": "markdown",
   "metadata": {},
   "source": [
    "# Background\n",
    "In the United States, as students embark on their college journeys, they often encounter the challenges of acclimating to a new environment and grappling with the responsibilities of adulthood, which may include navigating affordable housing options if dormitories are not provided by their institutions. With “over 40 million Americans collectively owing $1.7 trillion” in student debt<a name=\"relman\"></a>[<sup>[1]</sup>](#relmannote), and a significant portion of one-third of young adults under the age of 30 burdened with student loans<a name=\"pew\"></a>[<sup>[2]</sup>](#pewnote), financial strain is a real and valid concern. A 2019 survey conducted by the Hope Center at Temple University revealed that 60% of respondents at two-year institutions and 48% at four-year institutions faced housing insecurity<a name=\"goldrick\"></a>[<sup>[3]</sup>](#goldricknote). Housing insecurity, defined by challenges such as rent or utility payment difficulties and frequent relocations, underscores the obstacles students encounter. This issue can be attributed to the competitive real estate market, constantly rising housing costs, and potential lack of resources for students to secure suitable accommodations near their campuses. The price value for housing depends on factors such as age, size, property condition, safety of the neighborhood, and etc. \n",
    "\n",
    "\n",
    "There have been multiple research studies done to utilize machine learning models and techniques to predict housing prices in the market. One study for the Australian housing market, found that nonlinear tree-based models, like the Decision Tree, have performed better than linear models in predicting housing prices with various features such as property attributes and the quality of the surrounding neighborhood. Furthermore, they found that techniques such as Gradient-Boosting and Random Forest were more accurate in predicting these prices as well at different geographical scales<a name=\"soltani\"></a>[<sup>[4]</sup>](#soltaninote). "
   ]
  },
  {
   "cell_type": "markdown",
   "metadata": {},
   "source": [
    "# Problem Statement\n",
    "The problem we aim to address centers on the inefficiencies in matching students with optimal housing within the real estate market. Despite the many sites and places on the web available with homes, there is no main source of matching that addresses the problem of efficient preference matching. This issue will be quantifiable through means of analyzing varying data points such as price, location, amenities, and student preferences. It's measurable through metrics like match success rate, student satisfaction scores, and cost-effectiveness. Additionally, it's replicable across different markets and time periods. We propose a machine learning solution to dynamically assess and match student housing needs with available market offerings, optimizing for both student requirements and market conditions."
   ]
  },
  {
   "cell_type": "markdown",
   "metadata": {},
   "source": [
    "# Data\n",
    "\n",
    "US Real Estate Dataset:\n",
    "\n",
    "Dataset: https://urldefense.com/v3/__https://www.kaggle.com/datasets/ahmedshahriarsakib/usa-real-estate-dataset*5Cn__;JQ!!Mih3wA!BiLK-y5Q9NXLn6QWOHc1h9Gczz1-nU7chMq0QUpb1HwKlsudTXUQWlKo20R-DLvuTPoqC0IbVvgz6-k08g$ ",
    "\n",
    "This dataset consists of 22,681 observations in addition to 14 overall variables. The list of variables in which this dataset has measures include the following: State, City, Street, Zipcode, Number of Bedrooms, Number of Bathrooms, Area, Price Per Square Foot, Lot Area, Market Estimate, Latitude, Longitude, and Listed Price. The variables consist of the following data types: float and int. In terms of variables in which we plan to incorporate into our model, we plan to include the following, Bedroom, Bathroom, Area, Price Per Square Foot, Lot Area, Market Estimate, Rent Estimate, and Listed Price. The rest of the variables of which include State, City, Street, Zipcode, Latitude and Longitude can be used in how we plan to measure location. We plan to measure location in a series of different ways. One measurement is distance to nearest metropolitan city. For this we plan to use the latitude and Longitude coordinates in order to determine this distance. We can also find other measurements in terms of location, some of which include crime rates in that particular city, as well as socioeconomic status, as well as employment rates. These measurements can be obtained by using the zipcode variable or city variable and cross reference this data with other datasets that measure the corresponding variables. In terms of data transformations and cleaning, we have first dropped all N/A values. After dropping N/A values we have maintained 14,843 observations. For data transformation, we have chosen to drop the following columns: State, City, Street, Zipcode, Latitude, and Longitude. We will then use this data in order to generate new variables of which include: distance to nearest Metropolitan city, crime rate, socioeconomic status score, and employment rate, which we will then append to the remaining variables. To transform the data, we must define how we measure socioeconomic status.\n",
    "\n",
    "\n",
    "United States Cities Database:\n",
    "\n",
    "Dataset: https://urldefense.com/v3/__https://simplemaps.com/data/us-cities*5Cn__;JQ!!Mih3wA!BiLK-y5Q9NXLn6QWOHc1h9Gczz1-nU7chMq0QUpb1HwKlsudTXUQWlKo20R-DLvuTPoqC0IbVvhynsyTow$ ",
    "\n",
    "This dataset consists of 31,120 observations and 17 different variables. Each observation represents a particular city in the United States. We plan to merge this dataset to the US real estate dataset on the city of the particular apartment. The 17 variables in which this dataset includes includes the following: city, city_ascii, state_id, state_name, county_fips, county_name, lat, lng, population, density, source, military, incorporated, timezone, ranking, zips, id. We plan to only utilize the following variables: city, population, density, and rankings. The rankings variable is a measure of the importance of a city with 1 being the highest of importance level and 5 being the lowest. These variables will then be utilized in order for us to define and measure the location variable. For example, we know that cities with large populations and density usually means that that area is much more desirable, meaning that prices will be much higher. The ranking of the city will also play a factor in how we quantify the city variable. From there we will be able to quantify if the price of the apartment is worth it in that particular location.\n"
   ]
  },
  {
   "cell_type": "markdown",
   "metadata": {},
   "source": [
    "# Proposed Solution\n",
    "Our solution aims to employ an unsupervised machine learning model to search and cluster through Zillow's real estate data, focusing on attributes relevant to student housing such as cost, location, and amenities. We'll use clustering algorithms (e.g., K-means for grouping similar properties) and recommendation systems (collaborative filtering) to personalize housing options for students. This approach is based on our discussions and the theory that similar preferences among students can predict housing suitability. We'll test the model's accuracy and effectiveness through cross-validation techniques and compare its performance against a baseline model, likely a simple heuristic-based system. On the technical side for our tools, the implementation will involve Python libraries such as Scikit-learn for ML algorithms and Pandas for data manipulation which will ensure our ability to reproduce results.\n"
   ]
  },
  {
   "cell_type": "markdown",
   "metadata": {},
   "source": [
    "# Evaluation Metrics\n",
    "To evaluate our solution, we'll use two main metrics: RMSE and Precision at K. \n",
    "\n",
    "RMSE helps us understand how close our housing price predictions are to the actual prices, with lower scores being better. \n",
    "Precision at K measures if the top housing picks we suggest are what students are actually looking for. Imagine if we recommend 5 houses (k=5), and 3 are perfect matches, then our Precision at 5 would be 3/5 or 60%.\n",
    "These metrics allow us to assess both the accuracy of our predictions and the relevancy of our recommendations.\n"
   ]
  },
  {
   "cell_type": "markdown",
   "metadata": {},
   "source": [
    "# Ethics & Privacy"
   ]
  },
  {
   "cell_type": "markdown",
   "metadata": {},
   "source": [
    "Some potential concerns would be collection bias with the dataset that we are using which may have a bias of excluding certain information from the dataset that will cause bias in our modeling. To address these ethical problems we can make sure we are using diverse datasets where our training data is representative of the whole population which will decrease biases. We can regularly update the dataset to reflect changes in demography and preferences. \n"
   ]
  },
  {
   "cell_type": "markdown",
   "metadata": {},
   "source": [
    "# Team Expectations "
   ]
  },
  {
   "cell_type": "markdown",
   "metadata": {},
   "source": [
    "- Talk through each given step thoroughly and present research to any arising issues. \n",
    "- Prior to each deadline, ensure that tasks are completed via personal deadlines and we come as a team to connect.\n",
    "- Review/revise before submission for every team member\n",
    "- Stay active in group chats (imessage) to update on any scheduling conflicts or needs\n",
    "- Communicate new information found through office hours / discussion with TAs\n"
   ]
  },
  {
   "cell_type": "markdown",
   "metadata": {},
   "source": [
    "# Project Timeline Proposal"
   ]
  },
  {
   "cell_type": "markdown",
   "metadata": {},
   "source": [
    "| Meeting Date  | Meeting Time| Completed Before Meeting  | Discuss at Meeting |\n",
    "|---|---|---|---|\n",
    "| 2/5  |  6 PM |  Brainstorm topics/questions (all)  | Determine best form of communication; Discuss and decide on final project topic; discuss hypothesis; begin background research | \n",
    "| 2/12  |  6 PM |  Do background research on topic (everyone find datasets) | Discuss ideal dataset(s) and ethics; draft project proposal | \n",
    "| 2/19  | 6 PM  | Edit, finalize, and submit proposal  | Go over Proposal → Turn in my end of meeting   |\n",
    "| 2/26  | 6 PM  | Begin work with Jupyter - Conduct further research with tools. Create notebook everyone can work with | Review/Edit wrangling/EDA; Discuss Analysis Plan   |\n",
    "| 3/5  | 6 PM  | Build out visuals/graphs to show data representation. Flush out small UI/UX | Discuss/edit project code; Complete project |\n",
    "| 3/12  | 6 PM  | Meet with TA’s to review | Discuss/edit full project |\n",
    "| 3/19  | Before 11:59 PM  | Final Review all together | Turn in Final Project  |"
   ]
  },
  {
   "cell_type": "markdown",
   "metadata": {},
   "source": [
    "# Footnotes\n",
    "<a name =\"relman\"></a>1.[^](#relman): Relman, E., & Sheffey, A. (2024, January 7). Student loan borrowers are struggling to afford housing as debt piles up, worsening rental affordability in college towns. Business Insider. Retrieved from https://urldefense.com/v3/__https://www.businessinsider.com/student-loan-borrowers-housing-debt-rent-home-prices-college-towns-2024-1__;!!Mih3wA!BiLK-y5Q9NXLn6QWOHc1h9Gczz1-nU7chMq0QUpb1HwKlsudTXUQWlKo20R-DLvuTPoqC0IbVviz3Xrb1w$  \n",
    "\n",
    "<a name =\"pew\"></a>2.[^](#pew): Pew Research Center. (2019, August 13). Facts about student loans. Retrieved from https://urldefense.com/v3/__https://www.pewresearch.org/short-reads/2019/08/13/facts-about-student-loans/__;!!Mih3wA!BiLK-y5Q9NXLn6QWOHc1h9Gczz1-nU7chMq0QUpb1HwKlsudTXUQWlKo20R-DLvuTPoqC0IbVvgRMKd8Vg$    \n",
    "\n",
    "<a name =\"goldrick\"></a>3.[^](#goldrick): Goldrick-Rab, S., Baker-Smith, C., Coca, V., Looker, E., & Williams, T. (April 2019). College and University Basic Needs Insecurity: A National #RealCollege Survey Report. Retrieved from https://urldefense.com/v3/__https://hope.temple.edu/sites/hope/files/media/document/HOPE_realcollege_National_report_digital.pdf__;!!Mih3wA!BiLK-y5Q9NXLn6QWOHc1h9Gczz1-nU7chMq0QUpb1HwKlsudTXUQWlKo20R-DLvuTPoqC0IbVvj-WKtYTA$   \n",
    "\n",
    "<a name =\"soltani\"></a>4.[^](#soltani): Soltani, A., Heydari, M., Aghaei, F., & Pettit, C. J. (2022). Housing price prediction incorporating spatio-temporal dependency into machine learning algorithms. Journal of Cities, 131, 103941. https://urldefense.com/v3/__https://doi.org/10.1016/j.cities.2022.103941__;!!Mih3wA!BiLK-y5Q9NXLn6QWOHc1h9Gczz1-nU7chMq0QUpb1HwKlsudTXUQWlKo20R-DLvuTPoqC0IbVviXyAAxzg$    \n"
   ]
  },
  {
   "cell_type": "code",
   "execution_count": null,
   "metadata": {},
   "outputs": [],
   "source": []
  }
 ],
 "metadata": {
  "kernelspec": {
   "display_name": "Python 3 (ipykernel)",
   "language": "python",
   "name": "python3"
  },
  "language_info": {
   "codemirror_mode": {
    "name": "ipython",
    "version": 3
   },
   "file_extension": ".py",
   "mimetype": "text/x-python",
   "name": "python",
   "nbconvert_exporter": "python",
   "pygments_lexer": "ipython3",
   "version": "3.11.5"
  }
 },
 "nbformat": 4,
 "nbformat_minor": 4
}
